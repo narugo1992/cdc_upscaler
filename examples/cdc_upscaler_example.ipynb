{
 "nbformat": 4,
 "nbformat_minor": 0,
 "metadata": {
  "colab": {
   "provenance": []
  },
  "kernelspec": {
   "name": "python3",
   "display_name": "Python 3"
  },
  "language_info": {
   "name": "python"
  },
  "accelerator": "GPU",
  "gpuClass": "standard"
 },
 "cells": [
  {
   "cell_type": "markdown",
   "source": [
    "Clone this project"
   ],
   "metadata": {
    "collapsed": false
   }
  },
  {
   "cell_type": "code",
   "execution_count": null,
   "metadata": {
    "id": "0AKDnbUvMAOg"
   },
   "outputs": [],
   "source": [
    "!pip install cdc_upscaler[gpu]\n",
    "!pip install onnxruntime~=1.12.0"
   ]
  },
  {
   "cell_type": "markdown",
   "source": [
    "Import modules"
   ],
   "metadata": {
    "collapsed": false
   }
  },
  {
   "cell_type": "code",
   "source": [
    "import logging\n",
    "import os\n",
    "from PIL import Image\n",
    "from cdc_upscaler import image_upscale\n",
    "import matplotlib.pyplot as plt\n",
    "\n",
    "logging.basicConfig(\n",
    "  level=logging.INFO,\n",
    "  format=\"%(asctime)s [%(levelname)s] %(message)s\",\n",
    "  datefmt='%Y/%m/%d %H:%M:%S',\n",
    "  force=True,\n",
    ")"
   ],
   "metadata": {
    "id": "IFRtWWrpNJYB"
   },
   "execution_count": null,
   "outputs": []
  },
  {
   "cell_type": "markdown",
   "source": [
    "Upload original image"
   ],
   "metadata": {
    "collapsed": false
   }
  },
  {
   "cell_type": "code",
   "source": [
    "from google.colab import files\n",
    "import io\n",
    "\n",
    "# upload your own image\n",
    "(filename, binary_data), *_ = files.upload().items()\n",
    "with io.BytesIO(binary_data) as bio:\n",
    "  original_image = Image.open(bio).convert('RGB')\n",
    "\n",
    "plt.imshow(original_image)"
   ],
   "metadata": {
    "id": "21-U7-oxNVDm"
   },
   "execution_count": null,
   "outputs": []
  },
  {
   "cell_type": "markdown",
   "source": [
    "Upscale the original image"
   ],
   "metadata": {
    "collapsed": false
   }
  },
  {
   "cell_type": "code",
   "source": [
    "scale = 3  # any value is supported, such as 2, 1.5, even 8\n",
    "upscaled_image = image_upscale(original_image, scale)\n",
    "plt.imshow(upscaled_image)"
   ],
   "metadata": {
    "id": "TNSpNEviNcMh"
   },
   "execution_count": null,
   "outputs": []
  },
  {
   "cell_type": "code",
   "source": [
    "body, ext = os.path.splitext(filename)\n",
    "new_filename = f'{body}_x{scale}{ext}'\n",
    "upscaled_image.save(new_filename)\n",
    "files.download(new_filename)"
   ],
   "metadata": {
    "id": "qKGrog2YXPZU"
   },
   "execution_count": null,
   "outputs": []
  }
 ]
}
